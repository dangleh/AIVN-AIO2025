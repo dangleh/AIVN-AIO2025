{
 "cells": [
  {
   "cell_type": "code",
   "execution_count": 1,
   "metadata": {},
   "outputs": [
    {
     "name": "stdout",
     "output_type": "stream",
     "text": [
      "[2, 4, 6, 8, 10, 12]\n",
      "[2, 4, 8, 10]\n",
      "[2, 4, 8, 6, 7, 8, 10, 1, 2, 3]\n",
      "[0, 0, 0, 0, 7, 0, 0, 1, 0, 3]\n"
     ]
    }
   ],
   "source": [
    "# Day 7: List CRUD\n",
    "# Câu 1: Tạo mới một List có tên là lst data, gồm các số chẵn từ 1 đến 12.\n",
    "list_data = [2, 4, 6, 8, 10, 12]\n",
    "list_data_2 = []\n",
    "\n",
    "# using for-loop for list generation\n",
    "for value in range(1, 13):\n",
    "  if value % 2 == 0:\n",
    "    list_data_2.append(value)\n",
    "print(list_data_2)\n",
    "\n",
    "# Câu 2: Xóa tất cả các số chia hết cho 3 trong lst data vừa tạo\n",
    "for value in list_data:\n",
    "  if value % 3 == 0:\n",
    "    list_data_2.remove(value)\n",
    "print(list_data_2)\n",
    "\n",
    "# Câu 3: Thêm vào cuối lst data các số từ 1 đến 3, và thêm vào vị trí index = 3 một chuỗi các số từ 6 đến 8\n",
    "list_data_2.append(1)\n",
    "list_data_2.append(2)\n",
    "list_data_2.append(3)\n",
    "\n",
    "for value in [8,7,6]:\n",
    "  list_data_2.insert(3, value)\n",
    "print(list_data_2)\n",
    "\n",
    "# Câu 4: Nếu các số trong list lst data chia hết cho 2 hoặc chia hết cho 5 thì cập nhật thành số 0\n",
    "index = 0\n",
    "for value in list_data_2:\n",
    "  if (value % 2 == 0 ) or (value % 5 == 0):\n",
    "      list_data_2[index] = 0\n",
    "  index+=1\n",
    "print(list_data_2)\n"
   ]
  },
  {
   "cell_type": "code",
   "execution_count": null,
   "metadata": {},
   "outputs": [],
   "source": []
  }
 ],
 "metadata": {
  "kernelspec": {
   "display_name": "venv",
   "language": "python",
   "name": "python3"
  },
  "language_info": {
   "codemirror_mode": {
    "name": "ipython",
    "version": 3
   },
   "file_extension": ".py",
   "mimetype": "text/x-python",
   "name": "python",
   "nbconvert_exporter": "python",
   "pygments_lexer": "ipython3",
   "version": "3.12.7"
  }
 },
 "nbformat": 4,
 "nbformat_minor": 2
}
