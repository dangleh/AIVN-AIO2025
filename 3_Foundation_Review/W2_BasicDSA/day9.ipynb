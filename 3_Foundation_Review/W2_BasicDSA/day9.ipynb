{
 "cells": [
  {
   "cell_type": "code",
   "execution_count": 1,
   "metadata": {},
   "outputs": [
    {
     "name": "stdout",
     "output_type": "stream",
     "text": [
      "Median of list_data: [1, 2, 3, 4, 5, 6, 7, 8, 9, 10] is 5.5\n",
      "[9, 7, 5, 3, 1]\n",
      "Odd data meadian: 5.0\n",
      "Even data meadian: 6.0\n",
      "Mean of list_data: [1, 2, 3, 4, 5, 6, 7, 8, 9, 10] is 5.5\n"
     ]
    }
   ],
   "source": [
    "# Day 9:\n",
    "# Computing median a list of numbers\n",
    "list_data = [1,2,3,4,5,6,7,8,9,10]\n",
    "\n",
    "def calculate_median(data):\n",
    "  n = len(data)\n",
    "  # step1: Sort data asc\n",
    "  data.sort()\n",
    "  # step2: Determine the middle of data\n",
    "  if n % 2 == 0:\n",
    "    median = (data[n//2] + data[n//2 - 1]) / 2\n",
    "  else:\n",
    "    median = data[n//2]\n",
    "  return median\n",
    "\n",
    "print(f\"Median of list_data: {list_data} is {calculate_median(list_data)}\")\n",
    "\n",
    "list_odd_filter = []\n",
    "for i in list_data:\n",
    "  if i % 2 != 0:\n",
    "    list_odd_filter.append(i)\n",
    "list_odd_filter.reverse()\n",
    "print(list_odd_filter)\n",
    "\n",
    "\n",
    "# Computing mean a list of numbers\n",
    "def calculate_mean(data):\n",
    "  return sum(data) / len(data)\n",
    "\n",
    "\n",
    "odd_data = [i for i in list_data if i % 2 != 0]\n",
    "print(f\"Odd data meadian: {calculate_mean(odd_data)}\")\n",
    "even_data = [i for i in list_data if i % 2 == 0]\n",
    "print(f\"Even data meadian: {calculate_mean(even_data)}\")\n",
    "\n",
    "\n",
    "print(f\"Mean of list_data: {list_data} is {calculate_mean(list_data)}\")"
   ]
  }
 ],
 "metadata": {
  "kernelspec": {
   "display_name": "venv",
   "language": "python",
   "name": "python3"
  },
  "language_info": {
   "codemirror_mode": {
    "name": "ipython",
    "version": 3
   },
   "file_extension": ".py",
   "mimetype": "text/x-python",
   "name": "python",
   "nbconvert_exporter": "python",
   "pygments_lexer": "ipython3",
   "version": "3.12.7"
  }
 },
 "nbformat": 4,
 "nbformat_minor": 2
}
