{
 "cells": [
  {
   "cell_type": "markdown",
   "metadata": {},
   "source": [
    "# Day 2: For-Loop"
   ]
  },
  {
   "cell_type": "code",
   "execution_count": 16,
   "metadata": {},
   "outputs": [
    {
     "name": "stdout",
     "output_type": "stream",
     "text": [
      "2.718281826198493\n",
      "2.7182818284590455\n",
      "2.7182818284590455\n"
     ]
    }
   ],
   "source": [
    "# 2.1: Tính lãi suất tiền gửi ngân hàng - For loop\n",
    "import math\n",
    "def compute_interest(money, period):\n",
    "    result = money\n",
    "    for i in range(1, period):\n",
    "        result += money / math.factorial(i)\n",
    "    return result\n",
    "\n",
    "print(compute_interest(1, 12))\n",
    "print(compute_interest(1, 365))\n",
    "print(compute_interest(1, 730))"
   ]
  },
  {
   "cell_type": "code",
   "execution_count": 17,
   "metadata": {},
   "outputs": [
    {
     "name": "stdout",
     "output_type": "stream",
     "text": [
      "True\n",
      "True\n",
      "False\n",
      "False\n"
     ]
    }
   ],
   "source": [
    "# Tìm số nguyên tố Eratosthenes\n",
    "def is_prime_eratosthenes(n):\n",
    "    if n < 2:\n",
    "        return False\n",
    "    # Tạo danh scash prime với n + 1 phần tử, gán True cho tất cả các phần tử\n",
    "    prime = [True for i in range(n + 1)]\n",
    "    # Bỏ qua 0 và 1 vì không phải số nguyên tố\n",
    "\n",
    "    for i in range(2, n + 1):\n",
    "        if prime[i] == True:\n",
    "            for j in range(i * i, n + 1, i):\n",
    "                prime[j] = False\n",
    "    return prime[n]\n",
    "\n",
    "print(is_prime_eratosthenes(2))\n",
    "print(is_prime_eratosthenes(7))\n",
    "print(is_prime_eratosthenes(10))\n",
    "print(is_prime_eratosthenes(1))"
   ]
  },
  {
   "cell_type": "code",
   "execution_count": null,
   "metadata": {},
   "outputs": [],
   "source": []
  }
 ],
 "metadata": {
  "kernelspec": {
   "display_name": "venv",
   "language": "python",
   "name": "python3"
  },
  "language_info": {
   "codemirror_mode": {
    "name": "ipython",
    "version": 3
   },
   "file_extension": ".py",
   "mimetype": "text/x-python",
   "name": "python",
   "nbconvert_exporter": "python",
   "pygments_lexer": "ipython3",
   "version": "3.12.7"
  }
 },
 "nbformat": 4,
 "nbformat_minor": 2
}
