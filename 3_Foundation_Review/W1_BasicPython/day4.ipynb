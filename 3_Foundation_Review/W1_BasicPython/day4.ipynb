{
 "cells": [
  {
   "cell_type": "markdown",
   "metadata": {},
   "source": [
    "# Day 4: While-Loop + continue and break keywords"
   ]
  },
  {
   "cell_type": "code",
   "execution_count": 3,
   "metadata": {},
   "outputs": [
    {
     "name": "stdout",
     "output_type": "stream",
     "text": [
      "1\n",
      "2\n",
      "3\n",
      "4\n",
      "6\n",
      "7\n"
     ]
    }
   ],
   "source": [
    "# Example on how to use break and continue in a loop\n",
    "\n",
    "i = 0\n",
    "while i < 10:\n",
    "    i += 1\n",
    "    if i == 5:\n",
    "        continue  # Bỏ qua lần lặp khi i bằng 5\n",
    "    if i == 8:\n",
    "        break  # Thoát khỏi vòng lặp khi i bằng 8\n",
    "    print(i)"
   ]
  },
  {
   "cell_type": "code",
   "execution_count": 16,
   "metadata": {},
   "outputs": [
    {
     "name": "stdout",
     "output_type": "stream",
     "text": [
      "105\n",
      "102\n"
     ]
    }
   ],
   "source": [
    "def find_devisible_number(a):\n",
    "    \"\"\"\n",
    "    Find the smallest integer that is greater than 100 and divisible\n",
    "    by the integer a\n",
    "    \"\"\"\n",
    "    i = 101\n",
    "    while True:\n",
    "        if i % a == 0:\n",
    "            return i\n",
    "        i += 1\n",
    "\n",
    "print(find_devisible_number(5))\n",
    "print(find_devisible_number(17))\n"
   ]
  },
  {
   "cell_type": "code",
   "execution_count": null,
   "metadata": {},
   "outputs": [],
   "source": []
  }
 ],
 "metadata": {
  "kernelspec": {
   "display_name": "venv",
   "language": "python",
   "name": "python3"
  },
  "language_info": {
   "codemirror_mode": {
    "name": "ipython",
    "version": 3
   },
   "file_extension": ".py",
   "mimetype": "text/x-python",
   "name": "python",
   "nbconvert_exporter": "python",
   "pygments_lexer": "ipython3",
   "version": "3.12.7"
  }
 },
 "nbformat": 4,
 "nbformat_minor": 2
}
