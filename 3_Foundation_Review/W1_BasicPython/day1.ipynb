{
 "cells": [
  {
   "cell_type": "markdown",
   "metadata": {},
   "source": [
    "# Day 1: Basic Python If-Else"
   ]
  },
  {
   "cell_type": "code",
   "execution_count": 2,
   "metadata": {},
   "outputs": [
    {
     "name": "stdout",
     "output_type": "stream",
     "text": [
      "Ất Tỵ\n",
      "Giáp Thìn\n",
      "Đinh Sửu\n"
     ]
    }
   ],
   "source": [
    "## 2.1: Tính lịch can chi\n",
    "\n",
    "def calculate_can_chi_calendar(year):\n",
    "    can = [\"Canh\", \"Tân\", \"Nhâm\", \"Quý\", \"Giáp\", \"Ất\", \"Bính\", \"Đinh\", \"Mậu\", \"Kỷ\"]\n",
    "    chi = [\"Thân\", \"Dậu\", \"Tuất\", \"Hợi\", \"Tý\", \"Sửu\", \"Dần\", \"Mão\", \"Thìn\", \"Tỵ\", \"Ngọ\", \"Mùi\"]\n",
    "    r_can = can[year % 10]\n",
    "    r_chi = chi[year % 12]\n",
    "    return r_can + \" \" + r_chi\n",
    "\n",
    "print(calculate_can_chi_calendar(2025)) # => \"Ất Tỵ\"\n",
    "print(calculate_can_chi_calendar(2024)) # => \"Giáp Thìn\"\n",
    "print(calculate_can_chi_calendar(1997)) # => \"Đinh Sửu\"\n"
   ]
  },
  {
   "cell_type": "code",
   "execution_count": 13,
   "metadata": {},
   "outputs": [
    {
     "name": "stdout",
     "output_type": "stream",
     "text": [
      "ELU Test Cases\n",
      "3\n",
      "0\n",
      "0\n",
      "--------------------\n",
      "Leaky ReLU Test Cases\n",
      "3\n",
      "-0.02\n",
      "0.0\n",
      "--------------------\n",
      "Sigmoid Test Cases\n",
      "0.5\n",
      "0.8807970779778823\n",
      "0.11920292202211755\n",
      "--------------------\n",
      "Tanh Test Cases\n",
      "0.0\n",
      "0.964027580075817\n",
      "1.0\n",
      "--------------------\n",
      "ELU Test Cases\n",
      "3\n",
      "-0.7615941559557649\n",
      "0.0\n",
      "--------------------\n"
     ]
    }
   ],
   "source": [
    "# 2.2: Activation Functions\n",
    "\n",
    "# ReLU (Rectified Linear Activation)\n",
    "def relu(x):\n",
    "    if x > 0:\n",
    "        return x\n",
    "    else:\n",
    "        return 0\n",
    "    \n",
    "# def relu(x):\n",
    "#     return max(0, x)\n",
    "\n",
    "print(\"ELU Test Cases\")\n",
    "print(relu(3)) # => 3\n",
    "print(relu(-2)) # => 0\n",
    "print(relu(0)) # => 0\n",
    "print(\"--------------------\")\n",
    "\n",
    "# Leaky ReLU\n",
    "def leaky_relu(x, aplha=0.01):\n",
    "    if x > 0:\n",
    "        return x\n",
    "    else:\n",
    "        return aplha * x\n",
    "    \n",
    "print(\"Leaky ReLU Test Cases\")\n",
    "print(leaky_relu(3)) # => 3\n",
    "print(leaky_relu(-2)) # => -0.02\n",
    "print(leaky_relu(0)) # => 0\n",
    "print(\"--------------------\")\n",
    "\n",
    "\n",
    "import math\n",
    "# Sigmoid\n",
    "def signmoid(x):\n",
    "    return 1 / (1 + math.exp(-x))\n",
    "\n",
    "print(\"Sigmoid Test Cases\")\n",
    "print(signmoid(0)) # => 0.5\n",
    "print(signmoid(2)) # => 0.88\n",
    "print(signmoid(-2)) # => 0.1192\n",
    "print(\"--------------------\")\n",
    "\n",
    "\n",
    "# Tanh\n",
    "def tanh(x):\n",
    "    return (math.exp(x) - math.exp(-x)) / (math.exp(x) + math.exp(-x))\n",
    "\n",
    "print(\"Tanh Test Cases\")\n",
    "print(tanh(0)) # => 0.0\n",
    "print(tanh(2)) # => 0.964027580075817\n",
    "print(tanh(150)) # => 1.0\n",
    "print(\"--------------------\")\n",
    "\n",
    "# ELU (Exponential Linear Unit)\n",
    "def elu(x, alpha=1.0):\n",
    "    if x > 0:\n",
    "        return x\n",
    "    else:\n",
    "        return alpha(math.exp(x) - 1)\n",
    "\n",
    "print(\"ELU Test Cases\")\n",
    "print(elu(3)) # => 3\n",
    "print(tanh(-1)) # => -0.7615941559557649\n",
    "print(tanh(0)) # => 0.0\n",
    "print(\"--------------------\")  \n"
   ]
  },
  {
   "cell_type": "code",
   "execution_count": null,
   "metadata": {},
   "outputs": [],
   "source": []
  }
 ],
 "metadata": {
  "kernelspec": {
   "display_name": "venv",
   "language": "python",
   "name": "python3"
  },
  "language_info": {
   "codemirror_mode": {
    "name": "ipython",
    "version": 3
   },
   "file_extension": ".py",
   "mimetype": "text/x-python",
   "name": "python",
   "nbconvert_exporter": "python",
   "pygments_lexer": "ipython3",
   "version": "3.12.7"
  }
 },
 "nbformat": 4,
 "nbformat_minor": 2
}
